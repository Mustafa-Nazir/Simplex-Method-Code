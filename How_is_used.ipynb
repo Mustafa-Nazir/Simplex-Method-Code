{
 "cells": [
  {
   "cell_type": "markdown",
   "id": "7177c0b6",
   "metadata": {},
   "source": [
    "# The Usage of The \"SimplesMM\" Class\n",
    "---\n",
    "**The class' inputs and their types**\n",
    "\n",
    "         data:             coefficient of the variable                 ==> numpy.ndarray\n",
    "         sts:              the result of every equation                ==> numpy.ndarray\n",
    "         z:                coefficient of the z equation               ==> list \n",
    "         situations:       the situation of every equation(=,<=,>=)    ==> list\n",
    "         columns:          the names of the variables                  ==> list \n",
    "         M = 1000                                                      ==> \n",
    "         isMax==True :     the situation of z(max or min)              ==> boolean\n",
    "         iteration=100 :   max iteration value                         ==>"
   ]
  },
  {
   "cell_type": "code",
   "execution_count": 1,
   "id": "6b235b0e",
   "metadata": {},
   "outputs": [],
   "source": [
    "#importing the class\n",
    "from simpleksM import SimpleksMM\n",
    "import numpy as np"
   ]
  },
  {
   "cell_type": "markdown",
   "id": "a0a0f085",
   "metadata": {},
   "source": [
    "## Example: $Z_{max}$\n",
    "---\n",
    "$$\n",
    "    Z_{max} : 2X_{1} + 4X_{2} + 6X_{3} + 6X_{4}\n",
    "$$\n",
    "\n",
    "$$\n",
    "    4X_{1} + 4X_{2} + 6X_{3} + 2X_{4} = 100\n",
    "$$\n",
    "\n",
    "$$\n",
    "    2X_{1} + 2X_{2} + 4X_{3} + 2X_{4} \\le 80\n",
    "$$\n",
    "\n",
    "$$\n",
    "    2X_{1} + 2X_{2} + 2X_{3} + 4X_{4} \\ge 60\n",
    "$$\n",
    "\n",
    "$$\n",
    "    X_{1} , X_{2} , X_{3} , X_{4} \\ge 0\n",
    "$$"
   ]
  },
  {
   "cell_type": "code",
   "execution_count": 2,
   "id": "065d8692",
   "metadata": {},
   "outputs": [],
   "source": [
    "#creating the inputs\n",
    "data = np.array([\n",
    "    [4,4,6,2],\n",
    "    [2,2,4,2],\n",
    "    [2,2,2,4]\n",
    "])\n",
    "sts = np.array([100,80,60])\n",
    "z = [2,4,6,6]\n",
    "situations = [\"=\" , \"<=\" , \">=\"]\n",
    "columns = [\"x1\",\"x2\",\"x3\",\"x4\"]"
   ]
  },
  {
   "cell_type": "code",
   "execution_count": 3,
   "id": "1d28e839",
   "metadata": {},
   "outputs": [],
   "source": [
    "#creating the object\n",
    "mMethode = SimpleksMM(data=data , sts=sts , z=z , situations=situations , columns=columns , isMax=True)"
   ]
  },
  {
   "cell_type": "code",
   "execution_count": 4,
   "id": "0d6e16c5",
   "metadata": {},
   "outputs": [],
   "source": [
    "#with the method, the question is solved\n",
    "mMethode.solve()"
   ]
  },
  {
   "cell_type": "code",
   "execution_count": 5,
   "id": "9433027f",
   "metadata": {},
   "outputs": [],
   "source": [
    "#with the method, the answers are assigned to a variable\n",
    "answers = mMethode.show()"
   ]
  },
  {
   "cell_type": "code",
   "execution_count": 6,
   "id": "e7a11d20",
   "metadata": {},
   "outputs": [
    {
     "name": "stdout",
     "output_type": "stream",
     "text": [
      "data\n",
      "[[ 1.   1.   1.   0.   0.5 -0.5  0.   0. ]\n",
      " [ 0.   0.   4.   0.  -1.   3.   1.  -1. ]\n",
      " [ 0.   0.   1.   1.  -0.5  1.   0.   0. ]]\n",
      "----------\n",
      "z\n",
      "[2, 4, 6, 6, -1000, 0, 0, -1000]\n",
      "----------\n",
      "columns\n",
      "['x1', 'x2', 'x3', 'x4', 'A1', 'S2', 'S3', 'A3']\n",
      "----------\n",
      "cj\n",
      "[[4.]\n",
      " [0.]\n",
      " [6.]]\n",
      "----------\n",
      "cj_name\n",
      "['x2', 'S3', 'x4']\n",
      "----------\n",
      "answer\n",
      "220.0\n",
      "----------\n",
      "sts\n",
      "[[10.]\n",
      " [80.]\n",
      " [30.]]\n",
      "----------\n"
     ]
    }
   ],
   "source": [
    "for i in answers.keys():\n",
    "    print(i)\n",
    "    print(answers[i])\n",
    "    print(\"-\"*10)"
   ]
  },
  {
   "cell_type": "code",
   "execution_count": 7,
   "id": "7b74d5f8",
   "metadata": {},
   "outputs": [
    {
     "data": {
      "text/plain": [
       "220.0"
      ]
     },
     "execution_count": 7,
     "metadata": {},
     "output_type": "execute_result"
    }
   ],
   "source": [
    "#answer of the question(Zmax)\n",
    "answers[\"answer\"]"
   ]
  },
  {
   "cell_type": "code",
   "execution_count": 8,
   "id": "b60a7216",
   "metadata": {},
   "outputs": [
    {
     "name": "stdout",
     "output_type": "stream",
     "text": [
      "x2 = [10.]\n",
      "S3 = [80.]\n",
      "x4 = [30.]\n"
     ]
    }
   ],
   "source": [
    "#values of the variables\n",
    "for i in range(len(answers[\"sts\"])):\n",
    "    print(answers[\"cj_name\"][i] , \"=\" , answers[\"sts\"][i])"
   ]
  },
  {
   "cell_type": "code",
   "execution_count": 9,
   "id": "ad3d9f56",
   "metadata": {},
   "outputs": [
    {
     "data": {
      "text/plain": [
       "array([[ 1. ,  1. ,  1. ,  0. ,  0.5, -0.5,  0. ,  0. ],\n",
       "       [ 0. ,  0. ,  4. ,  0. , -1. ,  3. ,  1. , -1. ],\n",
       "       [ 0. ,  0. ,  1. ,  1. , -0.5,  1. ,  0. ,  0. ]])"
      ]
     },
     "execution_count": 9,
     "metadata": {},
     "output_type": "execute_result"
    }
   ],
   "source": [
    "#last status of the data\n",
    "answers[\"data\"]"
   ]
  },
  {
   "cell_type": "code",
   "execution_count": 10,
   "id": "17fa11a5",
   "metadata": {},
   "outputs": [
    {
     "data": {
      "text/html": [
       "<div>\n",
       "<style scoped>\n",
       "    .dataframe tbody tr th:only-of-type {\n",
       "        vertical-align: middle;\n",
       "    }\n",
       "\n",
       "    .dataframe tbody tr th {\n",
       "        vertical-align: top;\n",
       "    }\n",
       "\n",
       "    .dataframe thead th {\n",
       "        text-align: right;\n",
       "    }\n",
       "</style>\n",
       "<table border=\"1\" class=\"dataframe\">\n",
       "  <thead>\n",
       "    <tr style=\"text-align: right;\">\n",
       "      <th></th>\n",
       "      <th>cj</th>\n",
       "      <th>x1</th>\n",
       "      <th>x2</th>\n",
       "      <th>x3</th>\n",
       "      <th>x4</th>\n",
       "      <th>A1</th>\n",
       "      <th>S2</th>\n",
       "      <th>S3</th>\n",
       "      <th>A3</th>\n",
       "      <th>STS</th>\n",
       "    </tr>\n",
       "  </thead>\n",
       "  <tbody>\n",
       "    <tr>\n",
       "      <th>x2</th>\n",
       "      <td>4.0</td>\n",
       "      <td>1.0</td>\n",
       "      <td>1.0</td>\n",
       "      <td>1.0</td>\n",
       "      <td>0.0</td>\n",
       "      <td>0.5</td>\n",
       "      <td>-0.5</td>\n",
       "      <td>0.0</td>\n",
       "      <td>0.0</td>\n",
       "      <td>10.0</td>\n",
       "    </tr>\n",
       "    <tr>\n",
       "      <th>S3</th>\n",
       "      <td>0.0</td>\n",
       "      <td>0.0</td>\n",
       "      <td>0.0</td>\n",
       "      <td>4.0</td>\n",
       "      <td>0.0</td>\n",
       "      <td>-1.0</td>\n",
       "      <td>3.0</td>\n",
       "      <td>1.0</td>\n",
       "      <td>-1.0</td>\n",
       "      <td>80.0</td>\n",
       "    </tr>\n",
       "    <tr>\n",
       "      <th>x4</th>\n",
       "      <td>6.0</td>\n",
       "      <td>0.0</td>\n",
       "      <td>0.0</td>\n",
       "      <td>1.0</td>\n",
       "      <td>1.0</td>\n",
       "      <td>-0.5</td>\n",
       "      <td>1.0</td>\n",
       "      <td>0.0</td>\n",
       "      <td>0.0</td>\n",
       "      <td>30.0</td>\n",
       "    </tr>\n",
       "  </tbody>\n",
       "</table>\n",
       "</div>"
      ],
      "text/plain": [
       "     cj   x1   x2   x3   x4   A1   S2   S3   A3   STS\n",
       "x2  4.0  1.0  1.0  1.0  0.0  0.5 -0.5  0.0  0.0  10.0\n",
       "S3  0.0  0.0  0.0  4.0  0.0 -1.0  3.0  1.0 -1.0  80.0\n",
       "x4  6.0  0.0  0.0  1.0  1.0 -0.5  1.0  0.0  0.0  30.0"
      ]
     },
     "execution_count": 10,
     "metadata": {},
     "output_type": "execute_result"
    }
   ],
   "source": [
    "#last status table\n",
    "mMethode.table()"
   ]
  },
  {
   "cell_type": "markdown",
   "id": "e3f6d7ae",
   "metadata": {},
   "source": [
    "## Example: $Z_{min}$\n",
    "---\n",
    "$$\n",
    "    Z_{min} : 3X_{1} + 2X_{2} + X_{3}\n",
    "$$\n",
    "\n",
    "$$\n",
    "    X_{1} + X_{2} + X_{3} \\ge 4\n",
    "$$\n",
    "\n",
    "$$\n",
    "    X_{2} - X_{3} \\le 2\n",
    "$$\n",
    "\n",
    "$$\n",
    "    X_{1} + X_{2} + 2X_{3} = 6\n",
    "$$\n",
    "\n",
    "$$\n",
    "    X_{1} , X_{2} , X_{3} \\ge 0\n",
    "$$"
   ]
  },
  {
   "cell_type": "code",
   "execution_count": 11,
   "id": "c365ee99",
   "metadata": {},
   "outputs": [],
   "source": [
    "#creating the inputs\n",
    "data = np.array([\n",
    "    [1,1,1],\n",
    "    [0,1,-1],\n",
    "    [1,1,2]\n",
    "])\n",
    "sts = np.array([4,2,6])\n",
    "z = [3,2,1]\n",
    "situations = [\">=\" , \"<=\" , \"=\"]\n",
    "columns = [\"x1\",\"x2\",\"x3\"]"
   ]
  },
  {
   "cell_type": "code",
   "execution_count": 12,
   "id": "fedab594",
   "metadata": {},
   "outputs": [],
   "source": [
    "mMethode2 = SimpleksMM(data,sts,z,situations,columns,isMax=False)\n",
    "mMethode2.solve()\n",
    "answers_2 = mMethode2.show()"
   ]
  },
  {
   "cell_type": "code",
   "execution_count": 13,
   "id": "8dd08d01",
   "metadata": {},
   "outputs": [
    {
     "name": "stdout",
     "output_type": "stream",
     "text": [
      "data\n",
      "[[ 1.  1.  0. -2.  2.  0. -1.]\n",
      " [-1.  0.  0.  3. -3.  1.  2.]\n",
      " [ 0.  0.  1.  1. -1.  0.  1.]]\n",
      "----------\n",
      "z\n",
      "[3, 2, 1, 0, 1000, 0, 1000]\n",
      "----------\n",
      "columns\n",
      "['x1', 'x2', 'x3', 'S1', 'A1', 'S2', 'A3']\n",
      "----------\n",
      "cj\n",
      "[[2.]\n",
      " [0.]\n",
      " [1.]]\n",
      "----------\n",
      "cj_name\n",
      "['x2', 'S2', 'x3']\n",
      "----------\n",
      "answer\n",
      "6.0\n",
      "----------\n",
      "sts\n",
      "[[2.]\n",
      " [2.]\n",
      " [2.]]\n",
      "----------\n"
     ]
    }
   ],
   "source": [
    "for i in answers_2.keys():\n",
    "    print(i)\n",
    "    print(answers_2[i])\n",
    "    print(\"-\"*10)"
   ]
  },
  {
   "cell_type": "code",
   "execution_count": 14,
   "id": "d90b7d41",
   "metadata": {},
   "outputs": [
    {
     "data": {
      "text/plain": [
       "6.0"
      ]
     },
     "execution_count": 14,
     "metadata": {},
     "output_type": "execute_result"
    }
   ],
   "source": [
    "#Zmin\n",
    "answers_2[\"answer\"]"
   ]
  },
  {
   "cell_type": "code",
   "execution_count": 15,
   "id": "4c3ab807",
   "metadata": {},
   "outputs": [
    {
     "name": "stdout",
     "output_type": "stream",
     "text": [
      "x2 = [2.]\n",
      "S2 = [2.]\n",
      "x3 = [2.]\n"
     ]
    }
   ],
   "source": [
    "#values of the variables\n",
    "for i in range(len(answers_2[\"sts\"])):\n",
    "    print(answers_2[\"cj_name\"][i] , \"=\" , answers_2[\"sts\"][i])"
   ]
  },
  {
   "cell_type": "code",
   "execution_count": 16,
   "id": "9f8b93c5",
   "metadata": {},
   "outputs": [
    {
     "data": {
      "text/plain": [
       "array([[ 1. ,  1. ,  1. ,  0. ,  0.5, -0.5,  0. ,  0. ],\n",
       "       [ 0. ,  0. ,  4. ,  0. , -1. ,  3. ,  1. , -1. ],\n",
       "       [ 0. ,  0. ,  1. ,  1. , -0.5,  1. ,  0. ,  0. ]])"
      ]
     },
     "execution_count": 16,
     "metadata": {},
     "output_type": "execute_result"
    }
   ],
   "source": [
    "#last status of the data\n",
    "answers[\"data\"]"
   ]
  },
  {
   "cell_type": "code",
   "execution_count": 17,
   "id": "c3c41b5a",
   "metadata": {},
   "outputs": [
    {
     "data": {
      "text/html": [
       "<div>\n",
       "<style scoped>\n",
       "    .dataframe tbody tr th:only-of-type {\n",
       "        vertical-align: middle;\n",
       "    }\n",
       "\n",
       "    .dataframe tbody tr th {\n",
       "        vertical-align: top;\n",
       "    }\n",
       "\n",
       "    .dataframe thead th {\n",
       "        text-align: right;\n",
       "    }\n",
       "</style>\n",
       "<table border=\"1\" class=\"dataframe\">\n",
       "  <thead>\n",
       "    <tr style=\"text-align: right;\">\n",
       "      <th></th>\n",
       "      <th>cj</th>\n",
       "      <th>x1</th>\n",
       "      <th>x2</th>\n",
       "      <th>x3</th>\n",
       "      <th>S1</th>\n",
       "      <th>A1</th>\n",
       "      <th>S2</th>\n",
       "      <th>A3</th>\n",
       "      <th>STS</th>\n",
       "    </tr>\n",
       "  </thead>\n",
       "  <tbody>\n",
       "    <tr>\n",
       "      <th>x2</th>\n",
       "      <td>2.0</td>\n",
       "      <td>1.0</td>\n",
       "      <td>1.0</td>\n",
       "      <td>0.0</td>\n",
       "      <td>-2.0</td>\n",
       "      <td>2.0</td>\n",
       "      <td>0.0</td>\n",
       "      <td>-1.0</td>\n",
       "      <td>2.0</td>\n",
       "    </tr>\n",
       "    <tr>\n",
       "      <th>S2</th>\n",
       "      <td>0.0</td>\n",
       "      <td>-1.0</td>\n",
       "      <td>0.0</td>\n",
       "      <td>0.0</td>\n",
       "      <td>3.0</td>\n",
       "      <td>-3.0</td>\n",
       "      <td>1.0</td>\n",
       "      <td>2.0</td>\n",
       "      <td>2.0</td>\n",
       "    </tr>\n",
       "    <tr>\n",
       "      <th>x3</th>\n",
       "      <td>1.0</td>\n",
       "      <td>0.0</td>\n",
       "      <td>0.0</td>\n",
       "      <td>1.0</td>\n",
       "      <td>1.0</td>\n",
       "      <td>-1.0</td>\n",
       "      <td>0.0</td>\n",
       "      <td>1.0</td>\n",
       "      <td>2.0</td>\n",
       "    </tr>\n",
       "  </tbody>\n",
       "</table>\n",
       "</div>"
      ],
      "text/plain": [
       "     cj   x1   x2   x3   S1   A1   S2   A3  STS\n",
       "x2  2.0  1.0  1.0  0.0 -2.0  2.0  0.0 -1.0  2.0\n",
       "S2  0.0 -1.0  0.0  0.0  3.0 -3.0  1.0  2.0  2.0\n",
       "x3  1.0  0.0  0.0  1.0  1.0 -1.0  0.0  1.0  2.0"
      ]
     },
     "execution_count": 17,
     "metadata": {},
     "output_type": "execute_result"
    }
   ],
   "source": [
    "#last status table\n",
    "mMethode2.table()"
   ]
  }
 ],
 "metadata": {
  "kernelspec": {
   "display_name": "Python 3 (ipykernel)",
   "language": "python",
   "name": "python3"
  },
  "language_info": {
   "codemirror_mode": {
    "name": "ipython",
    "version": 3
   },
   "file_extension": ".py",
   "mimetype": "text/x-python",
   "name": "python",
   "nbconvert_exporter": "python",
   "pygments_lexer": "ipython3",
   "version": "3.7.3"
  }
 },
 "nbformat": 4,
 "nbformat_minor": 5
}
